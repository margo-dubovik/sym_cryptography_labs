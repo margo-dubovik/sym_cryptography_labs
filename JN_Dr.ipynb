{
 "cells": [
  {
   "cell_type": "code",
   "execution_count": 88,
   "metadata": {},
   "outputs": [],
   "source": [
    "from matplotlib import pyplot as plt"
   ]
  },
  {
   "cell_type": "code",
   "execution_count": 89,
   "metadata": {},
   "outputs": [],
   "source": [
    "f = open(r'C:\\Users\\Alex\\MARGO\\crypto_labs\\lab2\\var7_1.txt', 'r', encoding='utf8', errors='ignore')\n",
    "text = f.read()\n",
    "f.close()"
   ]
  },
  {
   "cell_type": "code",
   "execution_count": 90,
   "metadata": {},
   "outputs": [
    {
     "name": "stdout",
     "output_type": "stream",
     "text": [
      "d= [182, 186, 220, 197, 217, 219, 186, 203, 203, 370, 175, 216, 181, 205, 192, 202, 209, 195, 187, 194, 203, 176, 205, 219, 376]\n"
     ]
    },
    {
     "data": {
      "image/png": "[encoded data removed]",
      "text/plain": [
       "<Figure size 432x288 with 1 Axes>"
      ]
     },
     "metadata": {
      "needs_background": "light"
     },
     "output_type": "display_data"
    }
   ],
   "source": [
    "def find_r(y):\n",
    "    d = []\n",
    "    for r in range(6,31):\n",
    "        d_r = 0\n",
    "        for i in range(1, len(y)-r):\n",
    "            if y[i] == y[i+r]:\n",
    "                d_r += 1\n",
    "        d.append(d_r)\n",
    "    print(\"d=\", d)\n",
    "    return d\n",
    "\n",
    "\n",
    "def plot_d(d):\n",
    "    r = list(range (6,31))\n",
    "    plt.plot(r,d)\n",
    "    plt.show()\n",
    "\n",
    "d = find_r(text)\n",
    "plot_d(d)\n",
    "\n",
    "r=15 #key length"
   ]
  },
  {
   "cell_type": "code",
   "execution_count": 91,
   "metadata": {},
   "outputs": [
    {
     "name": "stdout",
     "output_type": "stream",
     "text": [
      "max_let_ind= [14, 30, 1, 18, 14, 21, 19, 16, 14, 30, 3, 22, 26, 14, 17]\n"
     ]
    }
   ],
   "source": [
    "def y_to_blocks(y):\n",
    "    y_blocks = []\n",
    "    for i in range(0, r):\n",
    "        y_i = y[i:: r]\n",
    "        y_blocks.append(y_i)\n",
    "    return y_blocks     \n",
    "\n",
    "ru_alph = ['а', 'б', 'в', 'г', 'д', 'е', 'ж', 'з', 'и', 'й','к', 'л', 'м', 'н', 'о', 'п',\n",
    "           'р', 'с', 'т', 'у', 'ф', 'х', 'ц', 'ч', 'ш', 'щ', 'ъ','ы', 'ь', 'э', 'ю', 'я']\n",
    "\n",
    "Y = y_to_blocks(text) #ciphertext divided into blocks of symbols with step r\n",
    "\n",
    "def letter_freqs(y):\n",
    "    fr = []\n",
    "    for j in range(len(Y)):\n",
    "        fr_j = []\n",
    "        for i in range(0,32):\n",
    "            fr_j.append(Y[j].count(ru_alph[i]))\n",
    "        fr.append(fr_j)\n",
    "    return fr\n",
    "\n",
    "freqs = letter_freqs(Y) #freqs of letters of block\n",
    "\n",
    "def find_most_freq(fr):\n",
    "    max_let = []  #indexes of most frequent letters of the block\n",
    "    for i in range(len(fr)): \n",
    "        max_let.append(freqs[i].index(max(fr[i])))\n",
    "    return max_let\n",
    "\n",
    "most_freq = find_most_freq(freqs) #indexes of most frequent letters of the block\n",
    "print(\"max_let_ind=\",most_freq)\n"
   ]
  },
  {
   "cell_type": "code",
   "execution_count": 92,
   "metadata": {},
   "outputs": [
    {
     "name": "stdout",
     "output_type": "stream",
     "text": [
      "[0, 16, 19, 4, 0, 7, 5, 2, 0, 16, 21, 8, 12, 0, 3]\n",
      "['а', 'р', 'у', 'д', 'а', 'з', 'е', 'в', 'а', 'р', 'х', 'и', 'м', 'а', 'г']\n"
     ]
    }
   ],
   "source": [
    "#визначення символів ключа прирівнюючи найчастіші літери в блоці та мові\n",
    "# \"o\" is most frequent in russian. position:14\n",
    "m = 32 \n",
    "def find_key_letter(mas):\n",
    "    k = []\n",
    "    for i in range(len(mas)):\n",
    "        k_i = (mas[i] - 14) % m\n",
    "        k.append(k_i)\n",
    "    return k\n",
    "\n",
    "key_numbers = find_key_letter(most_freq)\n",
    "print(key_numbers) #key letters`numbers\n",
    "\n",
    "def num_to_letter(y):\n",
    "    word = []\n",
    "    for item in y:\n",
    "        word.append(ru_alph[item])\n",
    "    return word\n",
    "\n",
    "key = num_to_letter(key_numbers)\n",
    "print(key)"
   ]
  },
  {
   "cell_type": "code",
   "execution_count": null,
   "metadata": {},
   "outputs": [],
   "source": [
    "#визначення символів ключа за допомогою функції М_і(g)\n"
   ]
  },
  {
   "cell_type": "code",
   "execution_count": 85,
   "metadata": {},
   "outputs": [
    {
     "name": "stdout",
     "output_type": "stream",
     "text": [
      "0\n"
     ]
    }
   ],
   "source": [
    "dict_letters = {'а':0, 'б':1, 'в':2, 'г':3, 'д':4, 'е':5, 'ё':6, 'ж':7, 'з':8, 'и':9, 'й':10,'к':11, 'л':12, 'м':13, 'н':14, \n",
    "                'о':15, 'п':16, 'р':17, 'с':18, 'т':19, 'у':20, 'ф':21, 'х':22, 'ц':23, 'ч':24, 'ш':25, 'щ':26, 'ъ':27,\n",
    "                'ы':28, 'ь':29, 'э':30, 'ю':31, 'я':32}\n",
    "\n",
    "print(dict_letters.get('а'))\n",
    "#for key, value in dict_letters:\n",
    "    "
   ]
  },
  {
   "cell_type": "code",
   "execution_count": 81,
   "metadata": {},
   "outputs": [
    {
     "name": "stdout",
     "output_type": "stream",
     "text": [
      "['adgjmpsv', 'behknqt', 'cfiloru']\n",
      "[37, 5, 24, 10, 11, 33, 3, 8, 13, 3, 10, 38, 12, 31, 52, 11, 19, 26, 29, 9, 0, 4, 1, 7, 3, 4, 0, 7, 6, 1, 2, 6, 37, 5, 24, 10, 11, 33, 3, 8, 13, 3, 10, 38, 12, 31, 52, 11, 19, 26, 29, 9, 0, 4, 1, 7, 3, 4, 0, 7, 6, 1, 2, 6]\n"
     ]
    }
   ],
   "source": [
    "#тестовый блок\n",
    "s = \"abcdefghijklmnopqrstuv\"\n",
    "t = []\n",
    "for i in range (0, 3):\n",
    "    k_i = s[i:: 3]\n",
    "    t.append(k_i)\n",
    "    \n",
    "print(t)\n",
    "ru_alph = ['а', 'б', 'в', 'г', 'д', 'е', 'ж', 'з', 'и', 'й','к', 'л', 'м', 'н', 'о', 'п',\n",
    "           'р', 'с', 'т', 'у', 'ф', 'х', 'ц', 'ч', 'ш', 'щ', 'ъ','ы', 'ь', 'э', 'ю', 'я']\n",
    "\n",
    "\n",
    "for i in range(0,32):\n",
    "    vec.append(stri.count(ru_alph[i]))\n",
    "print(vec)\n"
   ]
  },
  {
   "cell_type": "code",
   "execution_count": null,
   "metadata": {},
   "outputs": [],
   "source": []
  }
 ],
 "metadata": {
  "kernelspec": {
   "display_name": "Python 3",
   "language": "python",
   "name": "python3"
  },
  "language_info": {
   "codemirror_mode": {
    "name": "ipython",
    "version": 3
   },
   "file_extension": ".py",
   "mimetype": "text/x-python",
   "name": "python",
   "nbconvert_exporter": "python",
   "pygments_lexer": "ipython3",
   "version": "3.8.3"
  }
 },
 "nbformat": 4,
 "nbformat_minor": 4
}
