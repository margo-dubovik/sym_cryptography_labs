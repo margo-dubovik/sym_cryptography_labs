{
 "cells": [
  {
   "cell_type": "code",
   "execution_count": 1,
   "metadata": {},
   "outputs": [],
   "source": [
    "from matplotlib import pyplot as plt\n",
    "import numpy as np"
   ]
  },
  {
   "cell_type": "code",
   "execution_count": 2,
   "metadata": {},
   "outputs": [],
   "source": [
    "f = open(r'C:\\Users\\Alex\\MARGO\\crypto_labs\\lab2\\lab2\\var7.txt', 'r', encoding='utf8', errors='ignore')\n",
    "text = f.read()\n",
    "f.close()"
   ]
  },
  {
   "cell_type": "markdown",
   "metadata": {},
   "source": [
    "визначення довжини ключа"
   ]
  },
  {
   "cell_type": "code",
   "execution_count": 3,
   "metadata": {},
   "outputs": [
    {
     "name": "stdout",
     "output_type": "stream",
     "text": [
      "d= [182, 186, 220, 197, 217, 219, 186, 203, 203, 370, 175, 216, 181, 205, 192, 202, 209, 195, 187, 194, 203, 176, 205, 219, 376]\n"
     ]
    },
    {
     "data": {
      "image/png": "[encoded data removed]",
      "text/plain": [
       "<Figure size 432x288 with 1 Axes>"
      ]
     },
     "metadata": {
      "needs_background": "light"
     },
     "output_type": "display_data"
    }
   ],
   "source": [
    "def find_r(y):\n",
    "    d = []\n",
    "    for r in range(6,31):\n",
    "        d_r = 0\n",
    "        for i in range(1, len(y)-r):\n",
    "            if y[i] == y[i+r]:\n",
    "                d_r += 1\n",
    "        d.append(d_r)\n",
    "    print(\"d=\", d)\n",
    "    return d\n",
    "\n",
    "\n",
    "def plot_d(d):\n",
    "    r = list(range (6,31))\n",
    "    plt.plot(r,d)\n",
    "    plt.xticks(np.arange(0, 31, 5.0))\n",
    "    plt.show()\n",
    "\n",
    "d = find_r(text)\n",
    "plot_d(d)\n",
    "\n",
    "r=15 #key length"
   ]
  },
  {
   "cell_type": "code",
   "execution_count": 4,
   "metadata": {},
   "outputs": [
    {
     "name": "stdout",
     "output_type": "stream",
     "text": [
      "max_let_ind= [14, 30, 1, 18, 14, 21, 19, 16, 14, 30, 3, 22, 26, 14, 17]\n"
     ]
    }
   ],
   "source": [
    "def y_to_blocks(y):\n",
    "    y_blocks = []\n",
    "    for i in range(0, r):\n",
    "        y_i = y[i:: r]\n",
    "        y_blocks.append(y_i)\n",
    "    return y_blocks     \n",
    "\n",
    "ru_alph = ['а', 'б', 'в', 'г', 'д', 'е', 'ж', 'з', 'и', 'й','к', 'л', 'м', 'н', 'о', 'п',\n",
    "           'р', 'с', 'т', 'у', 'ф', 'х', 'ц', 'ч', 'ш', 'щ', 'ъ','ы', 'ь', 'э', 'ю', 'я']\n",
    "\n",
    "Y = y_to_blocks(text) #ciphertext divided into blocks of symbols with step r\n",
    "\n",
    "def letter_freqs(y):\n",
    "    fr = []\n",
    "    for j in range(len(Y)):\n",
    "        fr_j = []\n",
    "        for i in range(0,32):\n",
    "            fr_j.append(Y[j].count(ru_alph[i]))\n",
    "        fr.append(fr_j)\n",
    "    return fr\n",
    "\n",
    "freqs = letter_freqs(Y) #freqs of letters of block\n",
    "\n",
    "def find_most_freq(fr):\n",
    "    max_let = []  #indexes of most frequent letters of the block\n",
    "    for i in range(len(fr)): \n",
    "        max_let.append(fr[i].index(max(fr[i])))\n",
    "    return max_let\n",
    "\n",
    "most_freq = find_most_freq(freqs) #indexes of most frequent letters of the block\n",
    "print(\"max_let_ind=\",most_freq)"
   ]
  },
  {
   "cell_type": "markdown",
   "metadata": {},
   "source": [
    "визначення символів ключа прирівнюючи найчастіші літери в блоці та мові"
   ]
  },
  {
   "cell_type": "code",
   "execution_count": 5,
   "metadata": {},
   "outputs": [
    {
     "name": "stdout",
     "output_type": "stream",
     "text": [
      "key 1:\n",
      " [0, 16, 19, 4, 0, 7, 5, 2, 0, 16, 21, 8, 12, 0, 3]\n",
      "['а', 'р', 'у', 'д', 'а', 'з', 'е', 'в', 'а', 'р', 'х', 'и', 'м', 'а', 'г']\n"
     ]
    }
   ],
   "source": [
    "# \"o\" is most frequent in russian. position:14\n",
    "m = 32 \n",
    "def find_key_letter(mas):\n",
    "    k = []\n",
    "    for i in range(len(mas)):\n",
    "        k_i = (mas[i] - 14) % m\n",
    "        k.append(k_i)\n",
    "    return k\n",
    "\n",
    "key_numbers_1 = find_key_letter(most_freq) #key letters`numbers\n",
    "print(\"key 1:\\n\", key_numbers_1)\n",
    "\n",
    "def num_to_letter(y):\n",
    "    word = []\n",
    "    for item in y:\n",
    "        word.append(ru_alph[item])\n",
    "    return word\n",
    "\n",
    "key_word_1 = num_to_letter(key_numbers_1)\n",
    "print(key_word_1)"
   ]
  },
  {
   "cell_type": "markdown",
   "metadata": {},
   "source": [
    "визначення символів ключа за допомогою функції М_і(g)"
   ]
  },
  {
   "cell_type": "code",
   "execution_count": 6,
   "metadata": {},
   "outputs": [
    {
     "name": "stdout",
     "output_type": "stream",
     "text": [
      "key 2:\n",
      " [0, 16, 19, 4, 0, 7, 14, 2, 0, 16, 21, 8, 12, 0, 3]\n",
      "['а', 'р', 'у', 'д', 'а', 'з', 'о', 'в', 'а', 'р', 'х', 'и', 'м', 'а', 'г']\n"
     ]
    }
   ],
   "source": [
    "ru_freqs = {'а': 0.08413309204466018, 'б': 0.018444537359456968, 'в': 0.040462673208464264, 'г': 0.01711178764854606, \n",
    "            'д': 0.02942828957254013, 'е': 0.07911241482488061,  'ж': 0.009113656111376064, 'з': 0.017559304095592126, \n",
    "            'и': 0.06170010518269777, 'й': 0.011478633539561108, 'к': 0.03969340223562231, 'л': 0.05009897626529559, \n",
    "            'м': 0.034354237033455935, 'н': 0.06501238019952048, 'о': 0.1144482481527697, 'п': 0.028178836718561154, \n",
    "            'р': 0.04283091718005841, 'с': 0.05246558696518518, 'т': 0.062276650094403106, 'у': 0.030447451116177884, \n",
    "            'ф': 0.0015924399119339897, 'х': 0.009015659809103203, 'ц': 0.0038561544944370764, 'ч': 0.015486682302521117, \n",
    "            'ш': 0.008515878667511613, 'щ': 0.002889257645344849, 'ъ': 0.00022865803863667545, 'ы': 0.019801786145936095, \n",
    "            'ь': 0.018248544754911247, 'э': 0.0031946794540952655, 'ю': 0.00484755041909752, 'я': 0.023942129916964466}\n",
    "\n",
    "def M_i(n, g):  #function M_i(g)\n",
    "    m_i = 0\n",
    "    for i in range (r):\n",
    "        for t in range(len(ru_alph)):\n",
    "            let = ru_alph[t]\n",
    "            z = freqs[n][(t+g) % m]\n",
    "            m_i = m_i + ru_freqs.get(let) * z\n",
    "    return m_i\n",
    "\n",
    "\n",
    "def find_k_n(n): #meaning of n_th letter of the key\n",
    "    m_values = []\n",
    "    for g in range (m):\n",
    "        m_i = M_i(n, g)\n",
    "        m_values.append(m_i)\n",
    "    k_n = m_values.index(max(m_values))\n",
    "    return k_n\n",
    "\n",
    "def find_key():\n",
    "    k = []\n",
    "    for j in range(r):\n",
    "        k.append(find_k_n(j))\n",
    "    return k\n",
    "\n",
    "key_numbers_2 = find_key() #key letters`numbers\n",
    "print(\"key 2:\\n\", key_numbers_2)\n",
    "\n",
    "key_word_2 = num_to_letter(key_numbers_2)\n",
    "print(key_word_2)"
   ]
  },
  {
   "cell_type": "markdown",
   "metadata": {},
   "source": [
    "дешифрування тексту"
   ]
  },
  {
   "cell_type": "code",
   "execution_count": 7,
   "metadata": {},
   "outputs": [
    {
     "name": "stdout",
     "output_type": "stream",
     "text": [
      "KEY: арудазевархимаг\n",
      "DECIPHERED TEXT:\n",
      " прошлошятнадцатьднейиътарыйдомпостепонноначаложиватесороклетвнемниутонежилпонастоищемузаэтовремячнсменилодиннадяатьхозяевноникыоизнихневыдержсвалвподобноммеътебольшетрехмеъяцевкреоливанеъсасталидвенадцйтымимагполностеюпогрузилсявракотуонотрывалсяыолькозатемчтобдпоестьаотснаизкавлялсязаклятиомбессонницынодфякреолаэтоявноцепроходилобезнйказанноглазауногопокраснелиавокинабряклииотвссливанессавсячоскистараласьубодитьеговтомчтоомуследуетпрекрйтитьиздевательътванадорганизмчмихотьразоквысшатьсяпонастоящомуномагтолькоомрызалсязанималъяондвумяделамицеутомимописалмйгическуюкнигуичкутывалособнякхагическойзащитчйитоидругоетрековалоуймывремециакреолникакнехогрешитьчтодляцегоболеесрочношоэтомузанималсиобоимиделамипошеременносначалйонвсерьезбеспоуоилсяотомчтозаогодушойвотвотялитсяужасныйтротнопотомутихомищилсярешивчтотоыскореевсегодажонезнаетовоскребениистаринноголрагапокрайнеймореванессаизбавсласьотдомашнихюлопотбраунихубортнеизменносохщаняяпостноевырйжениелицаубирафсяготовилиобстсрывалвсехжильцчвобедыиужиныуногополучалисьочоньвкуснымихотяланессенеслишкохнравилосьчтооныакналегаетнаэкротическиерецепыыповареннуюкнимукоторойонобычцопользовалсяосыавилвдомеодинирегопрежнихвладольцевзавзятыйгьрманоднакобылолполнесъедобносймажеванессазасьчиларукаваивплчтнуюзаняласьрромонтомпервоначйльноонапланиролалананятьбриганурабочихчтобыоципривелиэтотсащайвпорядокновсыалвопроскудавтйкомслучаедеватевесьэтотзоопарубольшаячастьжифьцовунормальномочеловекавызвафабывлучшемслучйесильноеудивлециепоэтомудевушуаделалавсесамалсечтобылонужночназаказывалапоыелефонуобоикраъкуклейпиломатещиалыстеклогвозниинструментыипщочиемелочивплоыьдодверныхручеуатакжегорукнижоквкоторыхтолколоразъяснялоськйксделатьвдомеромонтсобственныхирукамиксчастьздедванессыпомаыеринскойлиниибдлплотникомобожйлмастеритьвсепчдрядикоечемунаьчилвнучкутакчтчначинатьейпришфосьнеснуляестеътвенноводиночкьонамалочтосмогфабысотворитьтробовалисьпомощнскипреждевсегооцаконфисковалаууреолаамулетслумивотужкогдахруътальномуподросыкупришлосьпотрьдитьсяпонастоявемувонгонялаегчсутрадовечеранодаваяниминутырчздыхувпрочемонцевозражалоднакчонабыстроубедифасьчтоумагичесуогослугидействстельноимеетсяриднедостатковонрачастуюпонималщаспоряжениянесчвсемтаккактоткыоихотдавалкприхеруванессаприкйзалаемувыпилитерейкидляновойлостницывродебывъевпорядкеперваирейкаполучиласепростобезупречцойиванессаспокчйноотправиласьшитькофеонаверньласьчерезполчаъаиобнаружилачтчсовершилаужасньюошибкузабылауыочнитьточноекофичествонеобходсмыхейреекслугасзвелтричетвертсимеющихсяунеедчсокизавалилкомцатурейкамидопоыолкадевушкабылйвынужденазаказйтьновыедоскиилчмалатеперьгололукудадеватьстофькобесполезныхнеревянныхизделсйтройвотличиеоысвоегодальнегощодичаотличалсящедкимсластолюбсемидержалнетреючетырехналожниякактогдаещенеащхимагавсеголишемагистркреоланосколькосотенпрсчемменялонихочоньчастобольнаяэантазиямолодогчнекромантагубифаеголюбовницсупасающейскоростеюоднаждыонзаглинулвшахшаноркомдаегохозяинотсьтствовалкакужеьпоминалосьтогдйэтидвоеещеневрйждовалипоэтомуыроявстретиликаугостясделаввсеатобыродичхозяицачувствовалсебихорошоксожаленсюпослетогокакмйгплотноотобедафикакследуетвыпслемунаглазапопйласьоднаизрабыцьеслибыдомабылъамкреолилихотякыегоуправляющитбедыудалосьбыирбежатьнониктодщугойнеосмелилсиостановитьмагалозжелавшегопорйзвлечьсясневоленицейтройпробыфснейоколочасаиуогдавышелвеселчсообщилчтоондеълегкапопортилихуществосвоегорчдичаисобратапомильдиинопустьтчтнерасстраиваеысяонтройоставифвуплатузанеецефуюгорстьзолотыюйехровниктоизрйбовничутьнезабоспокоилсяслучатбылсамыйчтонинйестьзаурядныйашлатавтроепревыбаланормальнуюсыоимостьрабынидйжетакойкрасоткскактаэфиопскаяыанцовщицакоторьютройслегкапопчртиливсебыобошфосьеслибыеслибдрабынянеоказалйсьлюбимойналожцицейкреолаесликынетотфактчтооцаносилаподсердяемребенкабудущоговерховногомамаеслибынеточтопестокийивспыльаивыймагпожалуйодинственныйразлжизникоготоползбилкогдакреолворнулсядомойиувсделточтоещевчещабыломолодойкрйсивойженщинойоцвпалвтакоебешецствочторазрушифполовинусобствоннойкрепостнойътеныиперебилнехеньшетридцатирйбовприпадокещецезакончилсяамамужелетелвбуквафьномсмыслекхешсбудворцутроячтчбыпродолжитьраррушениетаманадчсказатьчтовтевщеменакреолужебдлоднимизсильнетшихмаговшумерайтройещенетнаслодующийденькогдйдомойвозвратилъяужетройпришлооговремяполучатешокотегодворцалпрочемкудаменьбегочемукреолаоъталисьлишьдымявиесяразвалиныкщеолразворотилкйменнуюгромадувпивыхнеосталосьциодногорабанионнойналожницывсоонипогиблиотогцяимолнийразгнеланногомагакогдйжетройобнаружифтелосвоегодесяыилетнегосынанелинныйребенокбыфутопленвбадьесщасплавленнымзофотомаемувроткроолзасунулмаленекуюглинянуютабфичкустремясловйминадеюсьплатаностаточнанадосуазатьчтокреолоаеньскорораскаяфсявсодеянномидйжепринесискупиыельнуюжертвунайлтареиштардоэтчгоднямагнеубилциодногоребенкаснепросторебенкйачленаодногоизъамыхименитыхроновимперииегосокственногоюныйэютатожеведьприхчдилсякреолуродътвенникомивотлсчиеотсвоегоотцйпереднимничемнопровинилсяноужоничегонельзябыфопоправитьеслираразрушенныйхебибиумерщвленныюрабовкреолмогзйплатитьвыкупубсйстворабавдревцемшумересчиталчсьмелкимпрестушлениемкотороепщиравнивалоськпчрчечужогоимущеътватосмертьсынйтройнепростилбдемунизакакиедецьгимолодоймагвчзненавиделродиаадоконцасвоихдцейаужненавидететоэтотчеловекухелкакниктодругчйсэтогоднятройпилоднойтолькомостьюразумеетсячннебросилсявлоковуюатакутройнобылдуракомипонсмалчтоскреоломомунетягатьсяонссчезизшумерапоатинатридцатьлеынокогдавернулсинеизвестногдеемоносилостолькофетновернулсяоньжеархимагомиочоньбыстрозанялбдлоеместоприимпораторскомдворешримернозагоддооговозвращениякщеолзанялпоствещховногомагаитрчйнемедленноприцялсяинтриговатепытаясьподсидеыьбывшегоприятефяатеперьсамогораклятоговрагавътречаясьвбашнемильдиикреолитрчйлюбезнорасклацивалисьпрячазаэальшивымиулыбкймизвериныеоскафывозвращаясьженомойонинемедлецнопринималисьсыроитькознидругшротивдругаособонностаралсятротзадвадцатьлеткщеолупришлосьпрскончитьстолькоцаемныхубийцчтосзнихможнобылосэормироватьнебофьшуюармиюсредицихпопадалисьсахыеразныетвариоыобычныхлюдейдохогущественныхдомоновособенноащтодуиартераидурапомнилсязомхоуобжуткоесущестлопохожеенаизурчдованногокальмйраразмеромсчетдрехслоновпосталленныхдругнадрьгакакужтроюудафосьдоговоритьсисэтиммонстромноизвестноновпробломгодуонвыполризевфратаисухихпутемдошелдосахогоурагигантбифсяокрепостныесыеныпочтидвоесуыокпокакреолполсвалегосотнямирйзрушительныхзаулятийточтовконяеконцовосталосеотчудовищаможнчбылозапихнутьвбкатулку\n"
     ]
    }
   ],
   "source": [
    "ru_dict = {'а':0, 'б':1, 'в':2, 'г':3, 'д':4, 'е':5, 'ж':6, 'з':7, 'и':8, 'й':9,'к':10, 'л':11, 'м':12, 'н':13,\n",
    "           'о':14, 'п':15, 'р':16, 'с':17, 'т':18, 'у':19, 'ф':20, 'х':21, 'ц':22, 'ч':23, 'ш':24, 'щ':25, 'ъ':26,\n",
    "           'ы':27, 'ь':28, 'э':29, 'ю':30, 'я':31}\n",
    "\n",
    "key = key_numbers_1\n",
    "\n",
    "def decipher(y, k): #decipher the text using key\n",
    "    x = []\n",
    "    for i in range(len(y)):\n",
    "        y_i = ru_dict.get(y[i])\n",
    "        x_i = (y_i - k[i%r]) % m\n",
    "        x.append(x_i)\n",
    "    return x\n",
    "\n",
    "X_numbers = decipher(text, key)\n",
    "X = ''.join(num_to_letter(X_numbers)) #original text\n",
    "\n",
    "print(\"KEY:\", ''.join(key_word_1))\n",
    "print(\"DECIPHERED TEXT:\\n\", X)"
   ]
  },
  {
   "cell_type": "code",
   "execution_count": 8,
   "metadata": {},
   "outputs": [
    {
     "name": "stdout",
     "output_type": "stream",
     "text": [
      "KEY: арудазовархимаг\n",
      "ORIGINAL TEXT:\n",
      " прошлопятнадцатьднейистарыйдомпостепенноначаложиватьсороклетвнемниктонежилпонастоящемузаэтовремяонсменилодиннадцатьхозяевнониктоизнихневыдерживалвподобномместебольшетрехмесяцевкреоливанессасталидвенадцатымимагполностьюпогрузилсявработуонотрывалсятолькозатемчтобыпоестьаотснаизбавлялсязаклятиембессонницынодлякреолаэтоявнонепроходилобезнаказанноглазаунегопокраснелиавекинабряклииотвисливанессавсяческистараласьубедитьеговтомчтоемуследуетпрекратитьиздевательстванадорганизмомихотьразоквыспатьсяпонастоящемуномагтолькоогрызалсязанималсяондвумяделаминеутомимописалмагическуюкнигуиокутывалособнякмагическойзащитойитоидругоетребовалоуймывремениакреолникакнемогрешитьчтодлянегоболеесрочнопоэтомузанималсяобоимиделамипопеременносначалаонвсерьезбеспокоилсяотомчтозаегодушойвотвотявитсяужасныйтройнопотомутихомирилсярешивчтототскореевсегодаженезнаетовоскрешениистаринноговрагапокрайнеймереванессаизбавиласьотдомашниххлопотбраунихубертнеизменносохраняяпостноевыражениелицаубиралсяготовилиобстирывалвсехжильцовобедыиужиныунегополучалисьоченьвкуснымихотяванессенеслишкомнравилосьчтоонтакналегаетнаэкзотическиерецептыповареннуюкнигукоторойонобычнопользовалсяоставилвдомеодинизегопрежнихвладельцевзавзятыйгурманоднакобыловполнесъедобносамажеванессазасучиларукаваивплотнуюзаняласьрремонтомпервоначальноонапланировалананятьбригадурабочихчтобыонипривелиэтотсарайвпорядокновсталвопроскудавтакомслучаедеватьвесьэтотзоопаркбольшаячастьжильцовунормальногочеловекавызвалабывлучшемслучаесильноеудивлениепоэтомудевушкаделалавсесамавсечтобылонужнооназаказывалапотелефонуобоикраскуклейпиломатериалыстеклогвоздиинструментыипрочиемелочивплотьдодверныхручекатакжегорукнижеквкоторыхтолковоразъяснялоськаксделатьвдомеремонтсобственнымирукамиксчастьюдедванессыпоматеринскойлиниибылплотникомобожалмастеритьвсеподрядикоечемунаучилвнучкутакчтоначинатьейпришлосьнеснуляестественноводиночкуонамалочтосмоглабысотворитьтребовалисьпомощникипреждевсегоонаконфисковалаукреолаамулетслугивотужкогдахрустальномуподросткупришлосьпотрудитьсяпонастоящемувонгонялаегосутрадовечеранедаваяниминутыроздыхувпрочемонневозражалоднакоонабыстроубедиласьчтоумагическогослугидействительноимеетсяряднедостатковонзачастуюпонималраспоряжениянесовсемтаккактотктоихотдавалкпримеруванессаприказалаемувыпилитьрейкидляновойлестницывродебывсевпорядкеперваярейкаполучиласьпростобезупречнойиванессаспокойноотправиласьпитькофеонавернуласьчерезполчасаиобнаружилачтосовершилаужаснуюошибкузабылауточнитьточноеколичествонеобходимыхейреекслугаизвелтричетвертиимеющихсяунеедосокизавалилкомнатурейкамидопотолкадевушкабылавынужденазаказатьновыедоскииломалатеперьголовукудадеватьстолькобесполезныхдеревянныхизделийтройвотличиеотсвоегодальнегородичаотличалсяредкимсластолюбиемидержалнетрехчетырехналожницкактогдаещенеархимагавсеголишьмагистркреоланесколькосотенпричемменялонихоченьчастобольнаяфантазиямолодогонекромантагубилаеголюбовницсужасающейскоростьюоднаждыонзаглянулвшахшаноркогдаегохозяинотсутствовалкакужеупоминалосьтогдаэтидвоеещеневраждовалипоэтомутроявстретиликакгостясделаввсечтобыродичхозяиначувствовалсебяхорошоксожалениюпослетогокакмагплотноотобедаликакследуетвыпилемунаглазапопаласьоднаизрабыньеслибыдомабылсамкреолилихотябыегоуправляющийбедыудалосьбыизбежатьнониктодругойнеосмелилсяостановитьмагавозжелавшегопоразвлечьсясневольницейтройпробылснейоколочасаикогдавышелвеселосообщилчтоондеслегкапопортилимуществосвоегородичаисобратапогильдиинопустьтотнерасстраиваетсяонтройоставилвуплатузанеецелуюгорстьзолотыхйехровниктоизрабовничутьнезабеспокоилсяслучайбылсамыйчтонинаестьзаурядныйаплатавтроепревышаланормальнуюстоимостьрабынидажетакойкрасоткикактаэфиопскаятанцовщицакоторуютройслегкапопортиливсебыобошлосьеслибыеслибырабынянеоказаласьлюбимойналожницейкреолаеслибынетотфактчтоонаносилаподсердцемребенкабудущеговерховногомагаеслибынеточтожестокийивспыльчивыймагпожалуйединственныйразвжизникоготополюбилкогдакреолвернулсядомойиувиделточтоещевчерабыломолодойкрасивойженщинойонвпалвтакоебешенствочторазрушилполовинусобственнойкрепостнойстеныиперебилнеменьшетридцатирабовприпадокещенезакончилсяамагужелетелвбуквальномсмыслекхешибудворцутроячтобыпродолжитьразрушениетаманадосказатьчтовтевременакреолужебылоднимизсильнейшихмаговшумераатройещенетнаследующийденькогдадомойвозвратилсяужетройпришлоеговремяполучатьшокотегодворцавпрочемкудаменьшегочемукреолаосталисьлишьдымящиесяразвалиныкреолразворотилкаменнуюгромадувживыхнеосталосьниодногорабаниоднойналожницывсеонипогиблиотогняимолнийразгневанногомагакогдажетройобнаружилтелосвоегодесятилетнегосынаневинныйребенокбылутопленвбадьесрасплавленнымзолотомаемувроткреолзасунулмаленькуюглинянуютабличкустремясловаминадеюсьплатадостаточнанадосказатьчтокреолоченьскорораскаялсявсодеянномидажепринесискупительнуюжертвунаалтареиштардоэтогоднямагнеубилниодногоребенкаинепросторебенкаачленаодногоизсамыхименитыхродовимперииегособственногоюныйэхтатожеведьприходилсякреолуродственникомивотличиеотсвоегоотцапереднимничемнепровинилсяноуженичегонельзябылопоправитьеслизаразрушенныйхешибиумерщвленныхрабовкреолмогзаплатитьвыкупубийстворабавдревнемшумересчиталосьмелкимпреступлениемкотороеприравнивалоськпорчечужогоимуществатосмертьсынатройнепростилбыемунизакакиеденьгимолодоймагвозненавиделродичадоконцасвоихднейаужненавидетьтоэтотчеловекумелкакниктодругойсэтогоднятройжилоднойтолькоместьюразумеетсяоннебросилсявлобовуюатакутройнебылдуракомипонималчтоскреоломемунетягатьсяонисчезизшумерапочтинатридцатьлетнокогдавернулсянеизвестногдеегоносилостольколетновернулсяонужеархимагомиоченьбыстрозанялбылоеместоприимператорскомдворепримернозагоддоеговозвращениякреолзанялпостверховногомагаитройнемедленнопринялсяинтриговатьпытаясьподсидетьбывшегоприятеляатеперьсамогозаклятоговрагавстречаясьвбашнегильдиикреолитройлюбезнораскланивалисьпрячазафальшивымиулыбкамизвериныеоскалывозвращаясьжедомойонинемедленнопринималисьстроитькознидругпротивдругаособенностаралсятройзадвадцатьлеткреолупришлосьприкончитьстольконаемныхубийцчтоизнихможнобылосформироватьнебольшуюармиюсрединихпопадалисьсамыеразныетвариотобычныхлюдейдомогущественныхдемоновособенноартодуиартераидузапомнилсязомхокобжуткоесуществопохожеенаизуродованногокальмараразмеромсчетырехслоновпоставленныхдругнадругакакужтроюудалосьдоговоритьсясэтиммонстромнеизвестноновпрошломгодуонвыползизевфратаисухимпутемдошелдосамогоурагигантбилсяокрепостныестеныпочтидвоесутокпокакреолполивалегосотнямиразрушительныхзаклятийточтовконцеконцовосталосьотчудовищаможнобылозапихнутьвшкатулку\n"
     ]
    }
   ],
   "source": [
    "ru_dict = {'а':0, 'б':1, 'в':2, 'г':3, 'д':4, 'е':5, 'ж':6, 'з':7, 'и':8, 'й':9,'к':10, 'л':11, 'м':12, 'н':13,\n",
    "           'о':14, 'п':15, 'р':16, 'с':17, 'т':18, 'у':19, 'ф':20, 'х':21, 'ц':22, 'ч':23, 'ш':24, 'щ':25, 'ъ':26,\n",
    "           'ы':27, 'ь':28, 'э':29, 'ю':30, 'я':31}\n",
    "\n",
    "key = key_numbers_2\n",
    "\n",
    "def decipher(y, k): #decipher the text using key\n",
    "    x = []\n",
    "    for i in range(len(y)):\n",
    "        y_i = ru_dict.get(y[i])\n",
    "        x_i = (y_i - k[i%r]) % m\n",
    "        x.append(x_i)\n",
    "    return x\n",
    "\n",
    "X_numbers = decipher(text, key)\n",
    "X = ''.join(num_to_letter(X_numbers)) #original text\n",
    "\n",
    "print(\"KEY:\", ''.join(key_word_2))\n",
    "print(\"ORIGINAL TEXT:\\n\", X)"
   ]
  },
  {
   "cell_type": "markdown",
   "metadata": {},
   "source": [
    "Decipher var 11"
   ]
  },
  {
   "cell_type": "code",
   "execution_count": 9,
   "metadata": {},
   "outputs": [
    {
     "name": "stdout",
     "output_type": "stream",
     "text": [
      "d= [202, 219, 195, 204, 202, 205, 264, 185, 236, 196, 210, 411, 223, 211, 210, 174, 267, 212, 206, 212, 222, 190, 208, 241, 193, 223, 211, 191, 372, 174]\n"
     ]
    },
    {
     "data": {
      "image/png": "[encoded data removed]",
      "text/plain": [
       "<Figure size 432x288 with 1 Axes>"
      ]
     },
     "metadata": {
      "needs_background": "light"
     },
     "output_type": "display_data"
    }
   ],
   "source": [
    "f1 = open(r'C:\\Users\\Alex\\MARGO\\crypto_labs\\lab2\\lab2\\var11.txt', 'r', encoding='utf8', errors='ignore')\n",
    "text1 = f1.read()\n",
    "f1.close()\n",
    "\n",
    "def find_r1(y):\n",
    "    d = []\n",
    "    for r in range(6,36):\n",
    "        d_r = 0\n",
    "        for i in range(1, len(y)-r):\n",
    "            if y[i] == y[i+r]:\n",
    "                d_r += 1\n",
    "        d.append(d_r)\n",
    "    print(\"d=\", d)\n",
    "    return d\n",
    "\n",
    "\n",
    "def plot_d1(d):\n",
    "    r = list(range (6,36))\n",
    "    plt.plot(r,d)\n",
    "    plt.xticks(np.arange(0, 36, 2.0))\n",
    "    plt.show()\n",
    "    \n",
    "d = find_r1(text1)\n",
    "plot_d1(d)"
   ]
  },
  {
   "cell_type": "code",
   "execution_count": 10,
   "metadata": {},
   "outputs": [
    {
     "name": "stdout",
     "output_type": "stream",
     "text": [
      "max_let_ind= [16, 19, 27, 19, 4, 22, 14, 27, 31, 24, 22, 23, 24, 1, 20, 10, 4]\n",
      "key 1:\n",
      " [2, 5, 13, 5, 22, 8, 0, 13, 17, 10, 8, 9, 10, 19, 6, 28, 22]\n",
      "['в', 'е', 'н', 'е', 'ц', 'и', 'а', 'н', 'с', 'к', 'и', 'й', 'к', 'у', 'ж', 'ь', 'ц']\n",
      "key 2:\n",
      " [2, 5, 13, 5, 22, 8, 0, 13, 17, 10, 8, 9, 10, 19, 15, 5, 22]\n",
      "['в', 'е', 'н', 'е', 'ц', 'и', 'а', 'н', 'с', 'к', 'и', 'й', 'к', 'у', 'п', 'е', 'ц']\n",
      "KEY: венецианскийкупец\n",
      "ORIGINAL TEXT:\n",
      " антонионезнаюотчегоятакпечаленмнеэтовтягостьвамяслышутоженогдеягрустьпоймалнашелильдобылчтосоставляетчтородитеехотелбызнатьбессмысленнаягрустьмоявиноючтосамогосебяузнатьмнетрудносалариновыдухоммечетесьпоокеанугдевашивеличавыесудакакбогатеиивельможиводильпышнаяпроцессияморскаяспрезреньемсмотрятнаторговцевмелкихчтокланяютсянизкоимспочтеньемкогдаонилетятнатканыхкрыльяхсаланиоповерьтееслибятакрисковалпочтивсечувствабылибтаммоисмоейнадеждойябыпостоянносрывалтравучтобзнатьоткудаветерискалнакартахгаваниибухтылюбойпредметчтомогбынеудачумнепредвещатьменябынесомненновгрустьповергалсалариностудямойсупдыханьемявлихорадкебыдрожалотмысличтоможетвмореураганнаделатьнемогбывидетьячасовпесочныхневспомнившиомеляхиорифахпредставилбыкорабльвпескезавязшимглавусклонившимнижечембокачтобцеловатьсвоюмогилувцерквисмотрянакамнизданиясвятогокакмогбыяневспомнитьскалопасныхчтохрупкиймойкорабльедватолкнуввсепряностирассыпалибывводуиволныоблеклибвмоишелканусловомчтомоебогатствосталоничемимоглибяобэтомдуматьнедумаяпритомчтоеслибтакслучилосьмнепришлосьбызагруститьнеговоритезнаюяантониогруститтревожасьзасвоитоварыантонионетверьтемнеблагодарюсудьбумойрискнеодномуявверилсуднунеодномуиместусостояньемоенемеритсятекущимгодомянегрущуиззамоихтоваровсаларинотогдавызначитвлюбленыантониопустоесалариноневлюбленытакскажемвыпечальнызатемчтовыневеселыитолькомоглибсмеятьсявытвердяявеселзатемчтонегрущудвуличныйянусклянусьтобойродитприродастранныхлюдейодниглазеютихохочуткакпопугайуслышавшийволынкудругиеженавидкакуксускислытакчтовулыбкезубынепокажутклянисьсамнесторчтозабавнашуткавходятбассаниолоренцоиграцианосаланиовотблагородныйродичвашбассаниограцианоилоренцоснимпрощайтемывлучшемобществеоставимвассалариноосталсябячтобвасразвеселитьновотявижутехктовамдорожеантониовмоихглазахценавамдорогасдаетсямнечтовасделазовутирадывыпредлогуудалитьсясалариноприветвамгосподабассаниосиньорынокогдажмыпосмеемсякогдавычтотосталинелюдимысаларинодосугвашмыделитьготовысвамисалариноисаланиоуходятлоренцокбассаниосиньорразвыантонионашлимывасоставимнопрошукобедунепозабытьгдемыдолжнысойтисьбассаниопридунавернограцианосиньорантониовидувасплохойпечетесьслишкомвыоблагахмирактоихтрудомчрезмернымпокупаеттеряетихкакизменилисьвыантониоямирсчитаючемонестьграцианомирсценагдеувсякогоестьрольмоягрустнаграцианомнеждайтерольшутапускайотсмехабудувесьвморщинахпустьлучшепеченьотвинагоритчемстынетсердцеоттяжелыхвздоховзачемжечеловекустеплойкровьюсидетьподобномраморномупредкуспатьнаявуилихворатьжелтухойотраздраженьяслушайкаантониотебялюблюяговоритвомнелюбовьестьлюдиукоторыхлицапокрытыпленкойточногладьболотаонихранятнарочнонеподвижностьчтобобщаямолваимприписаласерьезностьмудростьиглубокийумисловноговорятнамяоракулкогдавещаюпустьипеснелаетомойантониознаюятакихчтомудрымислывутлишьпотомучтоничегонеговоряттогдакакзаговоривонитерзалибушитемктоихслышаближнихдуракаминазвалбывернодаобэтомпосленонеловитынаприманкугруститакуюславужалкуюрыбешкупойдемлоренцонупокапрощайапроповедьякончупообедавлоренцоитаквасоставляемдообедапридетсямнебытьмудрецомтакимбезмолвнымговоритьнедастграцианограцианодапоживисомноюгодадвазвукголосатысвоегозабудешьантонионудлятебяястануболтуномграцианоотличноведьмолчаньехорошовкопченыхязыкахдавчистыхдевахграцианоилоренцоуходятантониогдесмыслвегословахбассаниограцианоговоритбесконечномногопустяковбольшечемктолибоввенецииегорассужденияэтодвазернапшеницыспрятанныевдвухмерахмякинычтобыихнайтинадоискатьвесьденьанайдешьувидишьчтоиискатьнестоиловенецияулицавходитланчелотланчелотконечносовестьмояпозволитмнесбежатьотэтогожидамоегохозяинабесменятаквотитолкаеттаквотиискушаетговоритгобболанчелотгоббодобрыйланчелотилидобрыйгоббоилидобрыйланчелотгоббопустиногивходбегивовсетяжкиеудирайотсюдаасовестьговоритнетпостойчестныйланчелотпостойчестныйгоббоиликаквышесказаночестнейшийланчелотгоббонеудирайтопниногойнаэтимыслиладноахрабрыйдьяволвелитмнескладыватьпожиткивпутьговоритбесмаршговоритбесрадибогасоберисьсдухомговоритбесилупиладноасовестьмоявешаетсянашеюкмоемусердцуимудроговоритмойчестныйдругланчелотведьтысынчестногоотцаилискореесынчестнойматерипотомучтосказатьправдуотецтомойнесколькокакбыэтовыразитьсяотдавалчемтобылунегоэтакийпривкусладносовестьмнеговоритланчелотнешевелисьпошевеливайсяговоритбеснисместаговоритсовестьсовестьговорюправильнотысоветуешьеслиповиноватьсясовестинадомнеостатьсяужидамоегохозяинааонтопростименягосподисамвродедьяволаачтобыудратьотжидапридетсяповиноватьсялукавомуаведьонтосвашегопозволенияиестьсамдьяволитоправдачтожидвоплощенныйдьяволипосовестиговорясовестьмояжестокосерднаясовестьеслионамнесоветуетостатьсяужидабесмнедаетболеедружескийсоветятакиудерудьяволмоипяткиктвоимуслугамудерувходитстарыйгоббоскорзинкойгоббомолодойсиньорскажитепожалуйстакактутпройтиксиньоружидуланчелотвсторонуонебодаэтомойединородныйотецонслептаксловноемунеточтопескомакрупнымгравиемглазазасыпалонеузнаетменясыграюснимкакуюнибудьштукугоббопочтеннейшиймолодойсиньорсделайтемилостькакмнепройтиксиньоружидуланчелотаповернитенаправоприпервомповоротеноприсамомпервомповоротеповернитеналеводасмотритепринастоящемтоповоротенеповорачивайтенинаправониналевоаворочайтепрямехонькокдомужидагоббосвятыеугодникитруднобудетпопастьнанастоящуюдорогувынеможетесказатьмненекийланчелотчтоунегоживетживетунегоилинетланчелотвыговоритеомолодомсиньореланчелотевсторонувотпогодитекакуюясейчасисториюразведустарикувыговоритеомолодомсиньореланчелотегоббокакойтамсиньорвашамилостьсынбедногочеловекаотецегохотьэтоясамговорючестныйнооченьбедныйчеловекхотяблагодарябогаздоровыйланчелотнуктобытамнибылегоотецмыговоримомолодомсиньореланчелотегоббоознакомомвашеймилостипростоланчелотесударьланчелотнопрошувасстариктобишьумоляювасследственновыговоритеомолодомсиньореланчелотегоббооланчелотеспозволениявашеймилостиланчелотследственноосиньореланчелотенеговоритеосиньореланчелотебатюшкамойибоэтотмолодойсиньорсогласноволесудебирокаивсякихтакихученыхвещейвродетрехсестерпарокипрочихотраслейнаукидействительноскончалсяилиеслиможновыразитьсяпрощеотошелвлучшиймиргоббогосподиупасидаведьмальчуганбылистиннымпосохоммоейстаростиистинноймоейподпоройланчелотнеужтожяпохожнапалкуилинабалкунапосохилинаподпоркувыменянеузнаетебатюшкагоббоохнетяваснезнаюмолодойсиньорнопрошувасскажитемнеправдучтомоймальчикупокойгосподьегодушуживилипомерланчелотнеужтовынеузнаетеменябатюшкагоббоохгореяведьпочтичтоослепнепризнаювасланчелотнупоправдедажебудьувасглазавпорядкевыитомоглибынеузнатьменяументототецчтоузнаетсобственногоребенкаладностарикявамвсерасскажупровашегосынастановитсянаколениблагословименяправдадолжнавыйтинасветубийствадолгоскрыватьнельзякточейсынэтоскрытьможноновконцеконцовправдавыйдетнаружу\n"
     ]
    }
   ],
   "source": [
    "r = 17  # found from plot\n",
    "\n",
    "Y = y_to_blocks(text1) #ciphertext divided into blocks of symbols with step r\n",
    "freqs = letter_freqs(Y) #freqs of letters of block\n",
    "\n",
    "most_freq = find_most_freq(freqs) #indexes of most frequent letters of the block\n",
    "print(\"max_let_ind=\", most_freq)\n",
    "\n",
    "\n",
    "### визначення символів ключа прирівнюючи найчастіші літери в мові\n",
    "# \"o\" is most frequent in russian. position:14\n",
    "m = 32\n",
    "\n",
    "key_numbers_1 = find_key_letter(most_freq) #key letters`numbers\n",
    "print(\"key 1:\\n\", key_numbers_1)\n",
    "\n",
    "key_word_1 = num_to_letter(key_numbers_1)\n",
    "print(key_word_1)\n",
    "\n",
    "\n",
    "### визначення символів ключа за допомогою функції М_і(g)\n",
    "\n",
    "key_numbers_2 = find_key() #key letters`numbers\n",
    "print(\"key 2:\\n\", key_numbers_2)\n",
    "\n",
    "key_word_2 = num_to_letter(key_numbers_2)\n",
    "print(key_word_2)\n",
    "\n",
    "ru_dict = {'а':0, 'б':1, 'в':2, 'г':3, 'д':4, 'е':5, 'ж':6, 'з':7, 'и':8, 'й':9,'к':10, 'л':11, 'м':12, 'н':13,\n",
    "           'о':14, 'п':15, 'р':16, 'с':17, 'т':18, 'у':19, 'ф':20, 'х':21, 'ц':22, 'ч':23, 'ш':24, 'щ':25, 'ъ':26,\n",
    "           'ы':27, 'ь':28, 'э':29, 'ю':30, 'я':31}\n",
    "\n",
    "def decipher1(y, k): #decipher the text using key\n",
    "    x = []\n",
    "    for i in range(len(y)):\n",
    "        y_i = ru_dict.get(y[i])\n",
    "        x_i = (y_i - k[i%r]) % m\n",
    "        x.append(x_i)\n",
    "    return x\n",
    "\n",
    "key = key_numbers_2\n",
    "\n",
    "X_numbers = decipher1(text1, key)\n",
    "X = ''.join(num_to_letter(X_numbers)) #original text\n",
    "\n",
    "print(\"KEY:\", ''.join(key_word_2))\n",
    "print(\"ORIGINAL TEXT:\\n\", X)"
   ]
  },
  {
   "cell_type": "code",
   "execution_count": 11,
   "metadata": {},
   "outputs": [
    {
     "name": "stdout",
     "output_type": "stream",
     "text": [
      "KEY: венецианскийкужьц\n",
      "ORIGINAL TEXT:\n",
      " антонионезнаюоыаегоятакпечаленмцоэтовтягостьвамяъфышутоженогдеягрьътьпоймалнашелиленобылчтосоставляоычтородитеехотелкдзнатьбессмысленцйягрустьмоявиноюаыосамогосебяузнаыемнетрудносаларицчвыдухоммечетесьшчокеанугдевашивефсчавыесудакакбогйыеиивельможиводифепышнаяпроцессияхчрскаяспрезреньехъмотрятнаторговцолмелкихчтокланяюыъянизкоимспочтенеомкогдаонилетятнйыканыхкрыльяхсалйциоповерьтееслибиыакрисковалпочтилъечувствабылибтаххоисмоейнадеждойикыпостоянносрывафыравучтобзнатьотуьдаветерискалнакйщтахгаваниибухтыфзбойпредметчтомомкынеудачумнепредлощатьменябынесомцонновгрустьповермйлсалариностудямчтсупдыханьемявлиючрадкебыдрожалотхдсличтоможетвмороьраганнаделатьнехчгбывидетьячасовшосочныхневспомнилбиомеляхиорифахпщодставилбыкораблелпескезавязшимглйлусклонившимнижеаомбокачтобцеловаыесвоюмогилувцерклссмотрянакамниздйциясвятогокакмогкдяневспомнитьскафчпасныхчтохрупкитхойкорабльедватофунуввсепряностирйъсыпалибывводуивчфныоблеклибвмоишофканусловомчтомоокогатствосталониаомимоглибяобэтомньматьнедумаяпритчхчтоеслибтакслучсфосьмнепришлосьбдрагруститьнеговощстезнаюяантониогщьститтревожасьзаълоитоварыантониоцотверьтемнеблагонйрюсудьбумойрискцоодномуявверилсунцунеодномуиместуъчстояньемоенемерсысятекущимгодомяцогрущуиззамоихтолйровсаларинотогдйлызначитвлюбленыйцтониопустоесалащсноневлюбленытакъуажемвыпечальнызйыемчтовыневеселысыолькомоглибсмеяыесявытвердяявесефратемчтонегрущудльличныйянусклянуъетобойродитприронйстранныхлюдейодцсглазеютихохочутуйкпопугайуслышавбсйволынкудругиежоцавидкакуксускисфдтакчтовулыбкезукднепокажутклянисеъамнесторчтозабалцашуткавходятбасъйниолоренцоиграцсйносаланиовотбламчродныйродичвашбйъсаниограцианоилчщенцоснимпрощайтохывлучшемобществочставимвассаларицчосталсябячтобваъщазвеселитьновотилижутехктовамдорчпеантониовмоихглйрахценавамдорогаънаетсямнечтовасдофазовутирадывыпронлогуудалитьсясафйриноприветвамгоъшодабассаниосиньчщынокогдажмыпосмоомсякогдавычтотоъыалинелюдимысалащснодосугвашмыделсыьготовысвамисалйщиноисаланиоуходиылоренцокбассаничъиньорразвыантонсчнашлимывасоставсхнопрошукобедунешчзабытьгдемыдолжцдсойтисьбассаниошщидунавернограцийцосиньорантониовснувасплохойпечетоъьслишкомвыоблагйюмирактоихтрудомащезмернымпокупаеыыеряетихкакизменсфисьвыантониоямищъчитаючемонестьгщйцианомирсценагдоьвсякогоестьрольхчягрустнаграцианчхнеждайтерольшутйшускайотсмехабудьлесьвморщинахпусыелучшепеченьотвицйгоритчемстынетсощдцеоттяжелыхвздчюовзачемжечеловеуьстеплойкровьюсинотьподобномраморцчмупредкуспатьнаилуилихворатьжелтьюойотраздраженьяъфушайкаантониотекилюблюяговоритвохцелюбовьестьлюдиьуоторыхлицапокрыыдпленкойточногланеболотаонихранятцйрочнонеподвижноъыьчтобобщаямолвасхприписаласерьезцчстьмудростьиглукчкийумисловноговчщятнамяоракулкогнйвещаюпустьипеснофаетомойантониозцйюятакихчтомудрыхсслывутлишьпотомьатоничегонеговориытогдакакзаговорслонитерзалибушитохктоихслышаближнсюдуракаминазвалбдлернодаобэтомпосфононеловитынаприхйнкугруститакуюсфйвужалкуюрыбешкушчйдемлоренцонупоуйпрощайапроповедеикончупообедавлощонцоитаквасоставфиемдообедапридетъимнебытьмудрецомыйкимбезмолвнымголчритьнедастграцийцограцианодапожилссомноюгодадвазвьуголосатысвоегозйкудешьантонионудфитебяястануболтуцчмграцианоотличнчледьмолчаньехоробчвкопченыхязыкахнйвчистыхдевахграясаноилоренцоуходиыантониогдесмысллогословахбассаничмрацианоговоритбоъконечномногопусыиковбольшечемктофсбоввенецииегораъъужденияэтодвазещцапшеницыспрятанцдевдвухмерахмякицдчтобыихнайтинадчсскатьвесьденьанйтдешьувидишьчтоисъкатьнестоиловенояияулицавходитлацаелотланчелотконоаносовестьмояпозлчлитмнесбежатьотжыогожидамоегохозиснабесменятаквотсыолкаеттаквотиисуьшаетговоритгоббчфанчелотгоббодобщдйланчелотилидобщдйгоббоилидобрыйфйнчелотгоббопустсцогивходбегивовсоыяжкиеудирайотсюнйасовестьговоритцотпостойчестныйлйцчелотпостойчестцдйгоббоиликаквышоъказаночестнейшитфанчелотгоббонеунсрайтопниногойнажыимыслиладноахракщыйдьяволвелитмноъкладыватьпожиткслпутьговоритбесмйщшговоритбесрадикчгасоберисьсдухохмоворитбесилупилйнноасовестьмоявебйетсянашеюкмоемуъордцуимудроговорсымойчестныйдруглйцчелотведьтысынчоътногоотцаилискощоесынчестнойматещспотомучтосказатешравдуотецтомойноъколькокакбыэтовдщазитьсяотдавалчохтобылунегоэтакитшривкусладносовеъыьмнеговоритланчофотнешевелисьпошолеливайсяговориткоснисместаговориыъовестьсовестьголчрюправильнотысолотуешьеслиповинолйтьсясовестинадохцеостатьсяужидамчогохозяинааонтопщчстименягосподисйхвродедьяволаачтчкыудратьотжидапрснетсяповиноватьсифукавомуаведьонтчъвашегопозволениисестьсамдьяволитчшравдачтожидвоплчвенныйдьяволипосчлестиговорясовесыемояжестокосерднйисовестьеслионамцосоветуетостатьсиьжидабесмнедаетбчфеедружескийсовеыитакиудерудьяволхчипяткиктвоимусльмамудерувходитстйщыйгоббоскорзинкчтгоббомолодойсинечрскажитепожалуйъыакактутпройтикссцьоружидуланчелоылсторонуонебодаэычмойединородныйоыоцонслептаксловнчомунеточтопескомйурупнымгравиемглйразасыпалонеузнаоыменясыграюснимкйууюнибудьштукугоккопочтеннейшиймофчдойсиньорсделайыомилостькакмнепрчттиксиньоружидулйцчелотаповернитецйправоприпервомпчлоротеноприсамомшорвомповоротеповощнитеналеводасмоыщитепринастоящемычповоротенеповорйаивайтенинаправоцсналевоаворочайтошрямехонькокдомупсдагоббосвятыеугчнникитруднобудетшчпастьнанастоящузнорогувынеможетеъуазатьмненекийлацаелотчтоунегоживоыживетунегоилинеыфанчелотвыговориыоомолодомсиньорефйнчелотевсторонулчтпогодитекакуюяъойчасисториюразвонустарикувыговорсыеомолодомсиньорофанчелотегоббокаучйтамсиньорвашамсфостьсынбедногочофовекаотецегохотежтоясамговорючесыцыйнооченьбедныйаоловекхотяблагодйщябогаздоровыйлацаелотнуктобытамнскылегоотецмыговощсмомолодомсиньорофанчелотегоббоозцйкомомвашеймилосыспростоланчелотеъьдарьланчелотнопщчшувасстариктобибеумоляювасследстлонновыговоритеомчфодомсиньореланчофотегоббооланчелчыеспозволениявашотмилостиланчелотъфедственноосиньощоланчелотенеговощстеосиньореланчефчтебатюшкамойибожыотмолодойсиньоръчгласноволесудебсщокаивсякихтакихьаеныхвещейвродетщохсестерпарокипрчаихотраслейнаукинойствительносконайлсяилиеслиможнолдразитьсяпрощеотчбелвлучшиймиргобкчгосподиупасидавоньмальчуганбылисысннымпосохоммоейъыаростиистинноймчойподпоройланчелчынеужтожяпохожнашйлкуилинабалкунашчсохилинаподпоркьлыменянеузнаетебйыюшкагоббоохнетялйснезнаюмолодойссцьорнопрошувасскйпитемнеправдучтохчймальчикупокойгчъподьегодушуживифспомерланчелотнеьптовынеузнаетемецибатюшкагоббоохгчщеяведьпочтичтооъфепнепризнаюваслйцчелотнупоправденйжебудьувасглазалшорядкевыитомоглскынеузнатьменяумоцтототецчтоузнаеыъобственногоребецуаладностарикявахлсерасскажупровабогосынастановитсицаколениблагослолсменяправдадолжнйлыйтинасветубийсыладолгоскрыватьнофьзякточейсынэтоъурытьможноновконяоконцовправдавыйнотнаружу\n"
     ]
    }
   ],
   "source": [
    "ru_dict = {'а':0, 'б':1, 'в':2, 'г':3, 'д':4, 'е':5, 'ж':6, 'з':7, 'и':8, 'й':9,'к':10, 'л':11, 'м':12, 'н':13,\n",
    "           'о':14, 'п':15, 'р':16, 'с':17, 'т':18, 'у':19, 'ф':20, 'х':21, 'ц':22, 'ч':23, 'ш':24, 'щ':25, 'ъ':26,\n",
    "           'ы':27, 'ь':28, 'э':29, 'ю':30, 'я':31}\n",
    "\n",
    "def decipher1(y, k): #decipher the text using key\n",
    "    x = []\n",
    "    for i in range(len(y)):\n",
    "        y_i = ru_dict.get(y[i])\n",
    "        x_i = (y_i - k[i%r]) % m\n",
    "        x.append(x_i)\n",
    "    return x\n",
    "\n",
    "key = key_numbers_1\n",
    "\n",
    "X_numbers = decipher1(text1, key)\n",
    "X = ''.join(num_to_letter(X_numbers)) #original text\n",
    "\n",
    "print(\"KEY:\", ''.join(key_word_1))\n",
    "print(\"ORIGINAL TEXT:\\n\", X)"
   ]
  },
  {
   "cell_type": "code",
   "execution_count": null,
   "metadata": {},
   "outputs": [],
   "source": []
  }
 ],
 "metadata": {
  "kernelspec": {
   "display_name": "Python 3",
   "language": "python",
   "name": "python3"
  },
  "language_info": {
   "codemirror_mode": {
    "name": "ipython",
    "version": 3
   },
   "file_extension": ".py",
   "mimetype": "text/x-python",
   "name": "python",
   "nbconvert_exporter": "python",
   "pygments_lexer": "ipython3",
   "version": "3.8.3"
  }
 },
 "nbformat": 4,
 "nbformat_minor": 4
}
