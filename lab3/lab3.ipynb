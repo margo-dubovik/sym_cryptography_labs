{
 "cells": [
  {
   "cell_type": "code",
   "execution_count": 71,
   "metadata": {},
   "outputs": [],
   "source": [
    "import math\n",
    "from textwrap import wrap\n",
    "\n",
    "\n",
    "#ъ -> ь \n",
    "ru_alph = ['а', 'б', 'в', 'г', 'д', 'е', 'ж', 'з', 'и', 'й','к', 'л', 'м', 'н', 'о', 'п', \n",
    "              'р', 'с', 'т', 'у', 'ф', 'х', 'ц', 'ч', 'ш', 'щ', 'ы', 'ь', 'э', 'ю', 'я']\n",
    "#ь -> ъ\n",
    "# ru_alph = ['а', 'б', 'в', 'г', 'д', 'е', 'ж', 'з', 'и', 'й','к', 'л', 'м', 'н', 'о', 'п', \n",
    "#               'р', 'с', 'т', 'у', 'ф', 'х', 'ц', 'ч', 'ш', 'щ', 'ъ','ы', 'э', 'ю', 'я']"
   ]
  },
  {
   "cell_type": "markdown",
   "metadata": {},
   "source": [
    "finding modular multiplicative inverse & linear congruences solving"
   ]
  },
  {
   "cell_type": "code",
   "execution_count": 72,
   "metadata": {},
   "outputs": [],
   "source": [
    "#finding modular multiplicative inverse\n",
    "def inv_by_mod(a, m):\n",
    "    def gcdExtended(a, b):\n",
    "        if a == 0 :\n",
    "            return b,0,1\n",
    "        gcd,x1,y1 = gcdExtended(b%a, a)\n",
    "        x = y1 - (b//a) * x1\n",
    "        y = x1\n",
    "        return gcd,x,y\n",
    "    gcd, x, y = gcdExtended(a, m)\n",
    "  #  print(\"gcd=\", gcd, \"x=\", x, \"y=\", y)\n",
    "    # if gcd == 1:\n",
    "    #     print((x % m + m) % m)\n",
    "    # else:\n",
    "    #     print(-1)\n",
    "    d = 0\n",
    "    if gcd == 1:\n",
    "        if x < 0: \n",
    "            d = m + x\n",
    "        else: d = x % m\n",
    "    else: d = 0; print(\"wrong numbers\")\n",
    "#     print(\"d is\", d)\n",
    "    return d\n",
    "\n",
    "#linear congruences solving. a*x = b (mod n)\n",
    "def congr(a, b, n):\n",
    "    d = math.gcd(a,n)\n",
    "#     print(\"gcd=\", d)\n",
    "    if d == 1: \n",
    "        t = inv_by_mod(a, n)\n",
    "        x = [(b * t) %n]\n",
    "    else:\n",
    "        if b % d !=0: x = [0]; print(\"there are no solutions\"); return x\n",
    "        else:\n",
    "            a1 = a // d\n",
    "            b1 = b // d\n",
    "            n1 = n // d\n",
    "#             print(a1, b1, n1)\n",
    "            x = congr(a1, b1, n1)\n",
    "            for i in range(1, d):\n",
    "                z = (x[0] + i * n1) % n\n",
    "                x.append(z)\n",
    "    return x"
   ]
  },
  {
   "cell_type": "markdown",
   "metadata": {},
   "source": [
    "finding 5 most frequent bigrams in ciphertext"
   ]
  },
  {
   "cell_type": "code",
   "execution_count": 90,
   "metadata": {},
   "outputs": [
    {
     "name": "stdout",
     "output_type": "stream",
     "text": [
      "{'цл': 0.014362151506617854, 'ял': 0.01379892987890735, 'ае': 0.012109264995775838, 'ле': 0.011827654181920586, 'чо': 0.01098282174035483}\n"
     ]
    }
   ],
   "source": [
    "def find_most_fr_bi(num):\n",
    "    num = num + \".txt\"\n",
    "    f = open(f\"for_test\\{num}\", 'r', encoding='utf8', errors='ignore')\n",
    "    text = f.read()\n",
    "    f.close()\n",
    "    \n",
    "    d = [s for s in list(text) if s != '\\n']\n",
    "    text_without_space = ''.join(d)\n",
    "    data_bi_1 = wrap(text_without_space, 2)\n",
    "    if len(data_bi_1[-1]) == 1: del data_bi_1[-1] \n",
    "\n",
    "    k = 0\n",
    "    dict_bi_1_w_s = {}\n",
    "\n",
    "    for i in range (0,len(data_bi_1)): #было(0,len(data_bi)-1)\n",
    "        if data_bi_1[i] in dict_bi_1_w_s: pass\n",
    "        else: \n",
    "            dict_bi_1_w_s.update({data_bi_1[i]:k})\n",
    "            k = k+1\n",
    "\n",
    "    data_bi_1_w_s = data_bi_1 #список всех непересекающихся биграмм без пробелов\n",
    "\n",
    "    freq_bi_1_w_s = [] #список частот\n",
    "\n",
    "    for i in range(0,len(dict_bi_1_w_s)):\n",
    "        num = 0\n",
    "        for item in data_bi_1_w_s:\n",
    "            if dict_bi_1_w_s.get(item) == i: num = num + 1            \n",
    "        freq_bi_1_w_s.append(num/len(data_bi_1))\n",
    "\n",
    "    #создаём словарь биграмма-частота\n",
    "    d = {}\n",
    "    for key, value in dict_bi_1_w_s.items():\n",
    "        d[key] = freq_bi_1_w_s[value]\n",
    "\n",
    "    #сортируем по частотам\n",
    "    bi_1_w_s_freq = {} #словарь непересек. биграмм без пробелов\n",
    "    sorted_keys = reversed(sorted(d, key=d.get))  \n",
    "    for w in sorted_keys:\n",
    "        bi_1_w_s_freq[w] = d[w]\n",
    "        \n",
    "    res = dict(list(bi_1_w_s_freq.items())[0: 5])\n",
    "    return res\n",
    "\n",
    "ct_bigrams_dict = find_most_fr_bi(\"07\") #5 most frequent bigrams if var 07\n",
    "ct_bigrams_list = list(ct_bigrams_dict.keys()) #list of those bigrams (without freqs)\n",
    "ru_bigrams_list = ['ст', 'но', 'то', 'на', 'ен'] #list of 5 vjst frequent bigrams in russian\n",
    "print(ct_bigrams_dict)"
   ]
  },
  {
   "cell_type": "markdown",
   "metadata": {},
   "source": [
    " bigram -> number: X = \"вб\"= (2,1) = 2*31 + 1 = 63"
   ]
  },
  {
   "cell_type": "code",
   "execution_count": 91,
   "metadata": {},
   "outputs": [
    {
     "name": "stdout",
     "output_type": "stream",
     "text": [
      "{'цл': 693, 'ял': 941, 'ае': 5, 'ле': 346, 'чо': 727}\n",
      "{'ст': 545, 'но': 417, 'то': 572, 'на': 403, 'ен': 168}\n"
     ]
    }
   ],
   "source": [
    "m = 31\n",
    "\n",
    "def bigr_to_num(bigr):\n",
    "    i = ru_alph.index(bigr[0])\n",
    "    j = ru_alph.index(bigr[1])\n",
    "    num = i * m + j\n",
    "    return num\n",
    "\n",
    "def list_bigr_to_num(lst):\n",
    "    res = {}\n",
    "    for item in lst:\n",
    "        res[item] = bigr_to_num(item)\n",
    "    return res\n",
    "\n",
    "Y = list_bigr_to_num(ct_bigrams_list)\n",
    "X = list_bigr_to_num(ru_bigrams_list)\n",
    "print(Y)\n",
    "print(X)"
   ]
  },
  {
   "cell_type": "code",
   "execution_count": null,
   "metadata": {},
   "outputs": [],
   "source": []
  }
 ],
 "metadata": {
  "kernelspec": {
   "display_name": "Python 3",
   "language": "python",
   "name": "python3"
  },
  "language_info": {
   "codemirror_mode": {
    "name": "ipython",
    "version": 3
   },
   "file_extension": ".py",
   "mimetype": "text/x-python",
   "name": "python",
   "nbconvert_exporter": "python",
   "pygments_lexer": "ipython3",
   "version": "3.8.3"
  }
 },
 "nbformat": 4,
 "nbformat_minor": 4
}
